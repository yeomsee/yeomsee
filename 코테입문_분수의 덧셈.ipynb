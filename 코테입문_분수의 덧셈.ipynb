{
 "cells": [
  {
   "cell_type": "markdown",
   "id": "172529b9",
   "metadata": {},
   "source": [
    "첫 번째 분수의 분자와 분모를 뜻하는 *numer1*, *denom1*    \n",
    "두 번째 분수의 분자와 분모를 뜻하는 *numer2*, *denom2*가 매개변수로 주어집니다.  \n",
    "두 분수를 더한 값을 기약 분수로 나타냈을 때 분자와 분모를 순서대로 담은 배열을 return 하도록 solution 함수를 완성해보세요."
   ]
  },
  {
   "cell_type": "code",
   "execution_count": 1,
   "id": "232944db",
   "metadata": {},
   "outputs": [],
   "source": [
    "from fractions import Fraction\n",
    "def solution(numer1, denom1, numer2, denom2):\n",
    "    num = Fraction(numer1, denom1) + Fraction(numer2, denom2)\n",
    "    result = [num.numerator, num.denominator]\n",
    "    return result"
   ]
  },
  {
   "cell_type": "code",
   "execution_count": 2,
   "id": "9302ac3b",
   "metadata": {},
   "outputs": [],
   "source": [
    "# 다른 사람 풀이\n",
    "import math\n",
    "\n",
    "def solution(denum1, num1, denum2, num2):\n",
    "    denum = denum1*num2 + denum2*num1\n",
    "    num = num1*num2\n",
    "    gcd = math.gcd(denum, num)\n",
    "    return [denum//gcd, num//gcd]"
   ]
  },
  {
   "cell_type": "code",
   "execution_count": 3,
   "id": "6a6bd50e",
   "metadata": {},
   "outputs": [],
   "source": [
    "# (모듈 없이 나타낸) 다른 사람 풀이\n",
    "def solution(denum1, num1, denum2, num2):\n",
    "    answer = []\n",
    "    s = 0\n",
    "    \n",
    "    num0 = (deum1*num2) + (denum2*num1)\n",
    "    denum0 = num1*num2\n",
    "    \n",
    "    for i in range(min(denum0, num0), 0, -1):\n",
    "        if denum0%i ==0 and num0&i == 0:\n",
    "            s = i\n",
    "            break\n",
    "    # 이렇게 되면 s는 최소공배수\n",
    "    denum0 /= s\n",
    "    num0 /= s\n",
    "    \n",
    "    answer.append(denum0)\n",
    "    answer.append(num0)\n",
    "    \n",
    "    return answer"
   ]
  }
 ],
 "metadata": {
  "kernelspec": {
   "display_name": "Python 3 (ipykernel)",
   "language": "python",
   "name": "python3"
  },
  "language_info": {
   "codemirror_mode": {
    "name": "ipython",
    "version": 3
   },
   "file_extension": ".py",
   "mimetype": "text/x-python",
   "name": "python",
   "nbconvert_exporter": "python",
   "pygments_lexer": "ipython3",
   "version": "3.8.13"
  }
 },
 "nbformat": 4,
 "nbformat_minor": 5
}
