{
 "cells": [
  {
   "cell_type": "markdown",
   "id": "70254241",
   "metadata": {},
   "source": [
    "정수 배열 numbers가 매개변수로 주어집니다.  \n",
    "numbers의 *각 원소에 두배한 원소를 가진 배열*을 return하도록 solution 함수를 완성해주세요."
   ]
  },
  {
   "cell_type": "code",
   "execution_count": 1,
   "id": "bd70740c",
   "metadata": {},
   "outputs": [],
   "source": [
    "def solution(numbers):\n",
    "    answer = []\n",
    "    for i in numbers:\n",
    "        answer.append(i*2)\n",
    "    return answer"
   ]
  },
  {
   "cell_type": "code",
   "execution_count": 2,
   "id": "ec22b670",
   "metadata": {},
   "outputs": [],
   "source": [
    "# 다른 사람 풀이(리스트 컴프리헨션)\n",
    "def solution(numbers):\n",
    "    return [num*2 for num in numbers]"
   ]
  },
  {
   "cell_type": "code",
   "execution_count": 3,
   "id": "ecd9b335",
   "metadata": {},
   "outputs": [],
   "source": [
    "# 다른 사람 풀이2\n",
    "def solution(numbers):\n",
    "    return list(map(lambda x : x*2, numbers)) # map()만 하는 게 아닌 list(map())"
   ]
  },
  {
   "cell_type": "markdown",
   "id": "debb5be0",
   "metadata": {},
   "source": [
    "map(function, iterable)"
   ]
  },
  {
   "cell_type": "code",
   "execution_count": 4,
   "id": "bb126118",
   "metadata": {},
   "outputs": [],
   "source": [
    "# 다른 사람 풀이3(numpy 이용)\n",
    "import numpy as np\n",
    "def solution(numbers):\n",
    "    answer = []\n",
    "    answer = np.array(numbers)*2 # 벡터화 연산\n",
    "    answer = answer.tolist() # 리스트 변환\n",
    "    \n",
    "    return answer"
   ]
  },
  {
   "cell_type": "markdown",
   "id": "254a15ad",
   "metadata": {},
   "source": [
    "[numpy 관련](https://datascienceschool.net/01%20python/03.01%20%EB%84%98%ED%8C%8C%EC%9D%B4%20%EB%B0%B0%EC%97%B4.html)"
   ]
  }
 ],
 "metadata": {
  "kernelspec": {
   "display_name": "Python 3 (ipykernel)",
   "language": "python",
   "name": "python3"
  },
  "language_info": {
   "codemirror_mode": {
    "name": "ipython",
    "version": 3
   },
   "file_extension": ".py",
   "mimetype": "text/x-python",
   "name": "python",
   "nbconvert_exporter": "python",
   "pygments_lexer": "ipython3",
   "version": "3.8.13"
  }
 },
 "nbformat": 4,
 "nbformat_minor": 5
}
